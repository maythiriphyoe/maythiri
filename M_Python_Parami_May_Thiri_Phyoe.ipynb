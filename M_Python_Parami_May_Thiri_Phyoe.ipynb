{
  "nbformat": 4,
  "nbformat_minor": 0,
  "metadata": {
    "colab": {
      "provenance": [],
      "collapsed_sections": []
    },
    "kernelspec": {
      "name": "python3",
      "display_name": "Python 3"
    },
    "language_info": {
      "name": "python"
    }
  },
  "cells": [
    {
      "cell_type": "markdown",
      "source": [
        "1) Write a Python program to create a dictionary that count the frequency of words in the string given in Q1.txt. Find the most frequent occured word."
      ],
      "metadata": {
        "id": "bBSbIZTtW7q4"
      }
    },
    {
      "cell_type": "code",
      "execution_count": null,
      "metadata": {
        "id": "l6y53V9ZWzox",
        "colab": {
          "base_uri": "https://localhost:8080/"
        },
        "outputId": "1745139f-a6f0-485e-b0ff-6d81ab5ee844"
      },
      "outputs": [
        {
          "output_type": "stream",
          "name": "stdout",
          "text": [
            "{'i': 4, 'love': 1, 'this': 1, 'movie!': 1, 'it': 5, 'is': 1, 'sweet,': 1, 'but': 1, 'with': 1, 'satirical': 1, 'humor.': 1, 'the': 4, 'dialogs': 1, 'are': 2, 'great': 1, 'and': 4, 'adventure': 1, 'scenes': 1, 'fun.': 1, 'manages': 1, 'to': 3, 'be': 1, 'romantic': 1, 'whimsical': 1, 'while': 1, 'laughingat': 1, 'conventions': 1, 'of': 1, 'fairy': 1, 'tale': 1, 'genre.': 1, 'would': 1, 'recommend': 1, 'just': 1, 'about': 1, 'anyone.': 1, 'have': 1, 'seen': 1, 'several': 1, 'times': 1, 'am': 1, 'always': 1, 'happy': 1, 'see': 1, 'again': 1, 'again.': 1}\n"
          ]
        }
      ],
      "source": [
        "#step 1: read content from Q1.txt into list\n",
        "with open('Q1.txt', 'r') as file1:\n",
        "    wordlist = file1.read()\n",
        "\n",
        "#Step 2: \n",
        "clean_str = wordlist.lower()\n",
        "dictionary = dict()\n",
        "\n",
        "#Step 3: \n",
        "words = clean_str.split()\n",
        "\n",
        "#Step 4: \n",
        "for word in words:\n",
        "  if word in dictionary:\n",
        "    dictionary[word] += 1\n",
        "  \n",
        "  else:\n",
        "    dictionary[word] = 1\n",
        "\n",
        "#Step 5\n",
        "frequent_word = max(dictionary, key=dictionary.get)  #to find the frequent occurred word\n",
        "print(dictionary)"
      ]
    },
    {
      "cell_type": "markdown",
      "source": [
        "2) Write a Python program to read the name from Q2.txt and create email using domain 'parami.edu.mm' and save the results as dictionary : \n",
        "{'name': 'name@parami.edu.mm'}.\n",
        "Please take note that your email should not include space or any special characters and all charcters should be in lowercase. "
      ],
      "metadata": {
        "id": "aQP7q021Xr9W"
      }
    },
    {
      "cell_type": "code",
      "source": [
        "#step 1: read Q2. txt into the list\n",
        "with open ('Q2.txt', 'r') as names:\n",
        "    header = names.readline()\n",
        "    namelist = names.readlines()\n",
        "\n",
        "#step 2: \n",
        "cleanlist = [line.rstrip() for line in namelist]  #remove \\n\n",
        "\n",
        "new_list = [elem.strip().lower().replace(\" \", \"\") for elem in cleanlist]  #lower the letters and remove the space\n",
        "\n",
        "#step 3\n",
        "email = [*map(lambda name: name + '@' + \"parami.edu.mm\", new_list)] #change name into emails\n",
        "\n",
        "#step 4\n",
        "email_dict = dict(zip(new_list, email)) #make a dictionary\n",
        "print(email_dict)"
      ],
      "metadata": {
        "id": "2B2TGvQCXuR3",
        "colab": {
          "base_uri": "https://localhost:8080/"
        },
        "outputId": "850290f6-fd23-49c1-9ee8-c7151b9c9e98"
      },
      "execution_count": null,
      "outputs": [
        {
          "output_type": "stream",
          "name": "stdout",
          "text": [
            "{'dechendorji': 'dechendorji@parami.edu.mm', 'dekitshomo': 'dekitshomo@parami.edu.mm', 'dorjitshering': 'dorjitshering@parami.edu.mm', 'dorjiwangmo': 'dorjiwangmo@parami.edu.mm', 'gemtsheringlepcha': 'gemtsheringlepcha@parami.edu.mm', 'jigmedorji': 'jigmedorji@parami.edu.mm', 'kinleycheki': 'kinleycheki@parami.edu.mm', 'kinleywangmo': 'kinleywangmo@parami.edu.mm', 'ngawangdemakarpo': 'ngawangdemakarpo@parami.edu.mm', 'roshanchhetri': 'roshanchhetri@parami.edu.mm', 'sonamtenzin': 'sonamtenzin@parami.edu.mm', 'sonamtobgay': 'sonamtobgay@parami.edu.mm', 'sonamyangden': 'sonamyangden@parami.edu.mm', 'tandinom': 'tandinom@parami.edu.mm', 'tandinwangchuk': 'tandinwangchuk@parami.edu.mm', 'tashiom': 'tashiom@parami.edu.mm', 'tendayzangmo': 'tendayzangmo@parami.edu.mm', 'tsheringpem': 'tsheringpem@parami.edu.mm', 'ugyenphurpa': 'ugyenphurpa@parami.edu.mm', 'marmitt': 'marmitt@parami.edu.mm'}\n"
          ]
        }
      ]
    }
  ]
}